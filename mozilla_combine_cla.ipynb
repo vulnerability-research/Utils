{
  "nbformat": 4,
  "nbformat_minor": 0,
  "metadata": {
    "colab": {
      "name": "mozilla combine cla",
      "provenance": [],
      "collapsed_sections": [],
      "mount_file_id": "1NCbCmBeXhQ_5-L_-5eHxcC7Zw3GE0s5b",
      "authorship_tag": "ABX9TyPpDU9U1jtbsh0RTfOH196l",
      "include_colab_link": true
    },
    "kernelspec": {
      "name": "python3",
      "display_name": "Python 3"
    },
    "language_info": {
      "name": "python"
    }
  },
  "cells": [
    {
      "cell_type": "markdown",
      "metadata": {
        "id": "view-in-github",
        "colab_type": "text"
      },
      "source": [
        "<a href=\"https://colab.research.google.com/github/vulnerability-research/Utils/blob/main/mozilla_combine_cla.ipynb\" target=\"_parent\"><img src=\"https://colab.research.google.com/assets/colab-badge.svg\" alt=\"Open In Colab\"/></a>"
      ]
    },
    {
      "cell_type": "code",
      "execution_count": null,
      "metadata": {
        "id": "P65v4Bs7KNCK",
        "colab": {
          "base_uri": "https://localhost:8080/"
        },
        "outputId": "f68c2f4e-b001-46b0-c809-a65aabcf17d9"
      },
      "outputs": [
        {
          "output_type": "stream",
          "name": "stdout",
          "text": [
            "Requirement already satisfied: arff in /usr/local/lib/python3.7/dist-packages (0.9)\n"
          ]
        }
      ],
      "source": [
        "!pip install arff\n",
        "import arff\n",
        "import pandas as pd"
      ]
    },
    {
      "cell_type": "code",
      "source": [
        "df = pd.read_csv('drive/My Drive/TCC Vitor Apolinário/featurized.csv', encoding='latin1')\n",
        "df = df.drop('crashes', axis=1)"
      ],
      "metadata": {
        "id": "z-Gr3svuKPsY"
      },
      "execution_count": null,
      "outputs": []
    },
    {
      "cell_type": "code",
      "source": [
        "violations_count = pd.read_csv('mozilla-metrics-cla.csv')['K']"
      ],
      "metadata": {
        "id": "O0Om-_YPgo7F"
      },
      "execution_count": null,
      "outputs": []
    },
    {
      "cell_type": "code",
      "source": [
        "df['crashes'] = violations_count\n",
        "df.to_csv(\"mozilla-combine-cla.csv\")"
      ],
      "metadata": {
        "id": "YR2TMIcohH0G"
      },
      "execution_count": null,
      "outputs": []
    }
  ]
}